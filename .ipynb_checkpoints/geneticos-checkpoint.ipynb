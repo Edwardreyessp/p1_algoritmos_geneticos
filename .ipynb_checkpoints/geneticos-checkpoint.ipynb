{
 "cells": [
  {
   "cell_type": "markdown",
   "metadata": {},
   "source": [
    "# Maximizar una función"
   ]
  },
  {
   "cell_type": "markdown",
   "metadata": {},
   "source": [
    "Hoy voy a explicar dos enfoques de algoritmos genéticos para maximizar una función no lineal. Este problema fue el primero que resolví con algoritmos genéticos y fue toda una experiencia."
   ]
  },
  {
   "cell_type": "code",
   "execution_count": 1,
   "metadata": {},
   "outputs": [],
   "source": [
    "#importo las bibliotecas necesarias\n",
    "import matplotlib.pyplot as plt\n",
    "import numpy as np\n",
    "import math"
   ]
  },
  {
   "cell_type": "markdown",
   "metadata": {},
   "source": [
    "## El problema"
   ]
  },
  {
   "cell_type": "markdown",
   "metadata": {},
   "source": [
    "Debemos encontrar el valor de $x$ que maximice el valor de $y$ en la siguiente función."
   ]
  },
  {
   "cell_type": "code",
   "execution_count": 2,
   "metadata": {},
   "outputs": [],
   "source": [
    "#Entradas\n",
    "expresion= 1\n",
    "maxormin=1\n",
    "generaciones=100\n",
    "Xmin=-2\n",
    "Xmax=2"
   ]
  },
  {
   "cell_type": "code",
   "execution_count": 3,
   "metadata": {},
   "outputs": [],
   "source": [
    "def fx(x,expresion):\n",
    "    if expresion == 1:\n",
    "        return x*x\n",
    "    if expresion == 2:\n",
    "        return (math.sin(x)*40)\n",
    "    if expresion == 3:\n",
    "        return (math.cos(x)+x)\n",
    "    if expresion == 4:\n",
    "        return ((1000/math.abs(50-x))+x)\n",
    "    if expresion == 5:\n",
    "        return ((1000/math.abs(50-x))+(1000/math.abs(30-x))+(1000/math.abs(80-x))+x)"
   ]
  },
  {
   "cell_type": "code",
   "execution_count": 4,
   "metadata": {},
   "outputs": [],
   "source": [
    "y_axis = []\n",
    "x_axis=np.arange(Xmin,Xmax,0.02)\n",
    "\n",
    "for num in x_axis:\n",
    "    y_axis.append(fx(num,expresion))\n"
   ]
  },
  {
   "cell_type": "code",
   "execution_count": 5,
   "metadata": {},
   "outputs": [
    {
     "data": {
      "text/plain": [
       "[<matplotlib.lines.Line2D at 0x1c654920f10>]"
      ]
     },
     "execution_count": 5,
     "metadata": {},
     "output_type": "execute_result"
    },
    {
     "data": {
      "image/png": "[encoded data removed]",
      "text/plain": [
       "<Figure size 432x288 with 1 Axes>"
      ]
     },
     "metadata": {
      "needs_background": "light"
     },
     "output_type": "display_data"
    }
   ],
   "source": [
    "plt.plot(x_axis,y_axis)"
   ]
  },
  {
   "cell_type": "markdown",
   "metadata": {},
   "source": [
    "Como se puede observar arriba, la función tiene varios máximos y mínimos locales. El objetivo es llegar al punto más alto que se encuentra en $x=1$."
   ]
  },
  {
   "cell_type": "markdown",
   "metadata": {},
   "source": [
    "Aquí realicé dos enfoques, uno donde los genes se representan mediante números decimales y otro donde se representan mediante código binario. Esto produce resultados interesantes, pero lo importante es entender los componentes principales del algoritmo genético. Así que avanzaré primero con el enfoque más obvio y luego pasaré al código binario."
   ]
  },
  {
   "cell_type": "markdown",
   "metadata": {},
   "source": [
    "## Algoritmos genéticos"
   ]
  },
  {
   "cell_type": "markdown",
   "metadata": {},
   "source": [
    "### Representación de los genes"
   ]
  },
  {
   "cell_type": "markdown",
   "metadata": {},
   "source": [
    "Primero, tenemos que planificar qué representan los genes de nuestros individuos. Los genes deben tener la capacidad de resolver el problema, aunque no lo hagan de forma inmediata; y su efectividad debe poder medirse con precisión."
   ]
  },
  {
   "cell_type": "code",
   "execution_count": 6,
   "metadata": {},
   "outputs": [],
   "source": [
    "#individuo de ejemplo \n",
    "x = 0.54\n",
    "y = fx(x,expresion)"
   ]
  },
  {
   "cell_type": "code",
   "execution_count": 7,
   "metadata": {},
   "outputs": [
    {
     "data": {
      "text/plain": [
       "[<matplotlib.lines.Line2D at 0x1c654a58070>]"
      ]
     },
     "execution_count": 7,
     "metadata": {},
     "output_type": "execute_result"
    },
    {
     "data": {
      "image/png": "[encoded data removed]",
      "text/plain": [
       "<Figure size 432x288 with 1 Axes>"
      ]
     },
     "metadata": {
      "needs_background": "light"
     },
     "output_type": "display_data"
    }
   ],
   "source": [
    "plt.plot(x_axis,y_axis)\n",
    "plt.plot(x,y,'x')"
   ]
  },
  {
   "cell_type": "markdown",
   "metadata": {},
   "source": [
    "El individuo de ejemplo se encuentra representado por una x en el gráfico superior. Así que nuestra población debe estar compuesta por números que van desde $0$ hasta $2$. Sabiendo esto, nuestros genes pueden representar valores decimales de ese número."
   ]
  },
  {
   "cell_type": "code",
   "execution_count": 8,
   "metadata": {},
   "outputs": [],
   "source": [
    "#individuo de ejemplo \n",
    "#x = 0.54\n",
    "x = [0,5,4]"
   ]
  },
  {
   "cell_type": "markdown",
   "metadata": {},
   "source": [
    "Necesitamos representar los genes como una lista para poder realizar la mutación y el entrecruzamiento. Así que debemos manejar una función que convierta una lista en números decimales."
   ]
  },
  {
   "cell_type": "code",
   "execution_count": 9,
   "metadata": {},
   "outputs": [],
   "source": [
    "def listToDecimal(num):\n",
    "    decimal=0\n",
    "    for i in range(len(num)):\n",
    "        decimal+=num[i]*10**(-i)\n",
    "    return decimal"
   ]
  },
  {
   "cell_type": "code",
   "execution_count": 10,
   "metadata": {},
   "outputs": [
    {
     "data": {
      "text/plain": [
       "0.54"
      ]
     },
     "execution_count": 10,
     "metadata": {},
     "output_type": "execute_result"
    }
   ],
   "source": [
    "listToDecimal(x)"
   ]
  },
  {
   "cell_type": "markdown",
   "metadata": {},
   "source": [
    "Para hacer esto más interesante me gustaría manejar individuos con un código genético más grande, así que voy a definir un `ind_size` con el cual generaré un primer código genético aleatorio. "
   ]
  },
  {
   "cell_type": "code",
   "execution_count": 11,
   "metadata": {},
   "outputs": [
    {
     "data": {
      "text/plain": [
       "[-1, 8, 5, 5, 0, 2, 1, 6, 2, 7, 8, 6, 0, 1, 2]"
      ]
     },
     "execution_count": 11,
     "metadata": {},
     "output_type": "execute_result"
    }
   ],
   "source": [
    "ind_size = 15\n",
    "#Genetic pool\n",
    "genetic_pool=[[Xmin+1,Xmax-1],[0,1,2,3,4,5,6,7,8,9]]\n",
    "\n",
    "individuo = []\n",
    "individuo += [np.random.choice(genetic_pool[0])]\n",
    "individuo += list(np.random.choice(genetic_pool[1],ind_size-1))\n",
    "\n",
    "individuo"
   ]
  },
  {
   "cell_type": "markdown",
   "metadata": {},
   "source": [
    "Acabo de generar un individuo cuyo código genético está compuesto de 15 genes. Estos genes fueron elegidots de un `genetic_pool` que representa todos los valores que pueden tomar los genes.  \n",
    "Ya que nuestro individuo está definido entre 0 y 2, decidí colocar un pool distinto donde sólo puede tomar `[0,1]` para la parte entera, si llegase a tomar `2` es muy probable que se salga del rango. La parte decimal utiliza un pool de 0 a 9, así que el valor máximo que puede tomar el individuo es $1.9999...$ y el mínimo $0.0000...$"
   ]
  },
  {
   "cell_type": "code",
   "execution_count": 12,
   "metadata": {},
   "outputs": [
    {
     "data": {
      "text/plain": [
       "-0.14497837213987996"
      ]
     },
     "execution_count": 12,
     "metadata": {},
     "output_type": "execute_result"
    }
   ],
   "source": [
    "listToDecimal(individuo)"
   ]
  },
  {
   "cell_type": "markdown",
   "metadata": {},
   "source": [
    "Al convertir la lista en decimal podemos notar una pequeña variación al final debido a la forma en que python realiza la suma de punto flotante, pero nada de mucho peso."
   ]
  },
  {
   "cell_type": "code",
   "execution_count": 13,
   "metadata": {},
   "outputs": [
    {
     "data": {
      "text/plain": [
       "[[1, 1, 5, 0, 3, 3, 1, 9, 5, 7, 5, 3, 1, 1, 3],\n",
       " [1, 7, 1, 5, 7, 4, 1, 9, 2, 7, 1, 7, 1, 4, 8],\n",
       " [-1, 1, 7, 3, 9, 5, 5, 9, 9, 1, 0, 5, 6, 1, 7],\n",
       " [-1, 9, 9, 5, 9, 8, 2, 6, 2, 1, 1, 6, 0, 0, 3],\n",
       " [-1, 7, 5, 8, 4, 6, 7, 5, 3, 0, 7, 8, 6, 0, 0],\n",
       " [1, 1, 9, 7, 9, 6, 6, 8, 0, 3, 8, 3, 1, 1, 2],\n",
       " [1, 7, 1, 5, 5, 5, 7, 9, 6, 9, 8, 7, 1, 9, 1],\n",
       " [1, 3, 2, 0, 9, 5, 3, 3, 3, 0, 2, 7, 4, 7, 9],\n",
       " [-1, 1, 3, 1, 9, 8, 6, 5, 2, 0, 1, 6, 3, 0, 4],\n",
       " [1, 0, 8, 3, 1, 2, 0, 6, 7, 7, 4, 2, 9, 9, 6]]"
      ]
     },
     "execution_count": 13,
     "metadata": {},
     "output_type": "execute_result"
    }
   ],
   "source": [
    "poblacion = []\n",
    "\n",
    "for i in range(100):\n",
    "    individuo = []\n",
    "    individuo += [np.random.choice(genetic_pool[0])]\n",
    "    individuo += list(np.random.choice(genetic_pool[1],ind_size-1))\n",
    "    poblacion.append(individuo)\n",
    "poblacion[:10]"
   ]
  },
  {
   "cell_type": "markdown",
   "metadata": {},
   "source": [
    "Finalmente, genero una población llena de individuos con genes aleatorios. De esta población vamos a elegir los mejores para reproducirlos.  \n",
    "Abajo observarás cómo se encuentra repartida la población."
   ]
  },
  {
   "cell_type": "code",
   "execution_count": 14,
   "metadata": {},
   "outputs": [
    {
     "data": {
      "text/plain": [
       "[<matplotlib.lines.Line2D at 0x1c654bd5bb0>]"
      ]
     },
     "execution_count": 14,
     "metadata": {},
     "output_type": "execute_result"
    },
    {
     "data": {
      "image/png": "[encoded data removed]",
      "text/plain": [
       "<Figure size 432x288 with 1 Axes>"
      ]
     },
     "metadata": {
      "needs_background": "light"
     },
     "output_type": "display_data"
    }
   ],
   "source": [
    "for individuo in poblacion:\n",
    "    x = listToDecimal(individuo)\n",
    "    y = fx(x,expresion)\n",
    "    plt.plot(x,y,'x')\n",
    "plt.plot(x_axis,y_axis)"
   ]
  },
  {
   "cell_type": "markdown",
   "metadata": {},
   "source": [
    "### Medición del éxito"
   ]
  },
  {
   "cell_type": "markdown",
   "metadata": {},
   "source": [
    "Esto se suele llamar fitness. Aquí vamos a medir el éxito del individuo para cumplir con el objetivo y determinar la probabilidad que tendrá de reproducirse.  \n",
    "Ya que queremos maximizar una función, aquellos individuos que produzcan un valor más alto en $y$ serán seleccionados como los mejores."
   ]
  },
  {
   "cell_type": "code",
   "execution_count": 15,
   "metadata": {},
   "outputs": [],
   "source": [
    "fitness =[]\n",
    "\n",
    "#extraigo los valores de y para medir su éxito\n",
    "for individuo in poblacion:\n",
    "    x = listToDecimal(individuo)\n",
    "    y = fx(x,expresion)\n",
    "    fitness += [y]\n",
    "    \n",
    "#convierto fitnees en un vector para realizar operaciones\n",
    "#más fácilmente\n",
    "fitness = np.array(fitness)\n",
    "\n",
    "#divido todos los valores de y para la suma total\n",
    "#y así obtener valores entre 0 y 1\n",
    "fitness=fitness/fitness.sum()"
   ]
  },
  {
   "cell_type": "code",
   "execution_count": 16,
   "metadata": {},
   "outputs": [
    {
     "data": {
      "text/plain": [
       "array([1.11176965e-02, 2.47327481e-02, 5.73290595e-03, 1.35598230e-07,\n",
       "       4.90139257e-04, 1.20575206e-02, 2.47274448e-02, 1.46603181e-02,\n",
       "       6.33025762e-03, 9.85648667e-03, 5.46176106e-03, 1.80286474e-02,\n",
       "       9.19077271e-04, 2.78465279e-03, 5.59394923e-03, 1.22541462e-02,\n",
       "       2.61867660e-02, 6.03329461e-03, 5.94073248e-05, 2.14880771e-02,\n",
       "       1.75590080e-02, 1.65938907e-03, 3.81448362e-05, 1.95175546e-02,\n",
       "       1.28731244e-02, 6.78610320e-06, 4.01696021e-03, 3.26015133e-03,\n",
       "       3.24558920e-02, 6.93149164e-06, 7.71213850e-04, 1.28772239e-02,\n",
       "       1.91088884e-04, 1.82446599e-02, 1.72140983e-02, 6.91543247e-03,\n",
       "       3.87660249e-07, 3.03726683e-02, 2.96219885e-03, 2.04457203e-03,\n",
       "       4.88873725e-07, 6.49383843e-03, 1.75000460e-02, 2.32465533e-03,\n",
       "       3.16228732e-02, 2.16883233e-03, 2.54556478e-02, 1.81980461e-03,\n",
       "       1.31442310e-02, 1.57911080e-04, 1.55753227e-02, 9.72809499e-04,\n",
       "       1.86009188e-03, 3.54824650e-03, 6.78013200e-03, 1.47316288e-02,\n",
       "       3.22827925e-02, 1.70525231e-02, 1.39529907e-02, 6.40729193e-03,\n",
       "       2.05816392e-02, 2.22896476e-03, 5.44037922e-04, 2.90802057e-02,\n",
       "       9.90473489e-03, 1.66053166e-02, 9.58490797e-03, 9.07391060e-05,\n",
       "       4.08698815e-03, 2.97704798e-05, 5.82768953e-04, 2.53655297e-02,\n",
       "       3.42636286e-03, 7.08658376e-05, 3.30911658e-03, 1.33701297e-02,\n",
       "       7.40829891e-03, 3.58871810e-03, 1.73874809e-03, 1.57610532e-04,\n",
       "       2.21395390e-02, 6.41409632e-03, 6.49585571e-03, 8.39567714e-03,\n",
       "       1.59710142e-02, 4.15980955e-05, 2.14766279e-03, 3.24216399e-02,\n",
       "       1.89794770e-02, 2.20713986e-02, 1.50104579e-02, 3.25851695e-02,\n",
       "       1.05936644e-02, 3.34196181e-02, 3.16322095e-03, 3.47947984e-03,\n",
       "       3.95192483e-06, 6.48555863e-03, 3.03979737e-03, 3.05916781e-05])"
      ]
     },
     "execution_count": 16,
     "metadata": {},
     "output_type": "execute_result"
    }
   ],
   "source": [
    "fitness"
   ]
  },
  {
   "cell_type": "markdown",
   "metadata": {},
   "source": [
    "Todos los valores de $y$ se dividen entre la suma total para obtener una probabilidad. La operación realizada arriba sirve para representar porcentajes. Por ejemplo, si tengo dos números: `[8,5]`, cuando los divido para la suma obtengo el porcentaje que representan del total:"
   ]
  },
  {
   "cell_type": "code",
   "execution_count": 17,
   "metadata": {},
   "outputs": [
    {
     "data": {
      "text/plain": [
       "array([0.61538462, 0.38461538])"
      ]
     },
     "execution_count": 17,
     "metadata": {},
     "output_type": "execute_result"
    }
   ],
   "source": [
    "array = np.array([8,5])\n",
    "array = array/array.sum()\n",
    "array"
   ]
  },
  {
   "cell_type": "markdown",
   "metadata": {},
   "source": [
    "Si trabajo con números que sumen diez será más fácil visualizarlo. "
   ]
  },
  {
   "cell_type": "code",
   "execution_count": 18,
   "metadata": {},
   "outputs": [
    {
     "data": {
      "text/plain": [
       "array([0.8, 0.2])"
      ]
     },
     "execution_count": 18,
     "metadata": {},
     "output_type": "execute_result"
    }
   ],
   "source": [
    "array = np.array([8,2])\n",
    "array = array/array.sum()\n",
    "array"
   ]
  },
  {
   "cell_type": "markdown",
   "metadata": {},
   "source": [
    "Los números más grandes producen un porcentaje mayor, y ya que la probabilidad se mide entre 0 y 1, esto ya nos permite darle una probabilidad mayor de reproducirse a los mejores individuos, aquellos que obtuvieron números más grandes en $y$."
   ]
  },
  {
   "cell_type": "markdown",
   "metadata": {},
   "source": [
    "### Entrecruzamiento"
   ]
  },
  {
   "cell_type": "markdown",
   "metadata": {},
   "source": [
    "El entrecruzamiento consiste en mezclar los genes de los mejores individuos. En este caso vamos a elegir dos padres al azar, de acuerdo a la probabilidad del fitness, para que produzcan un nuevo individuo.  \n",
    "Es importante no descartar de lleno a los peores individuos ya que, tal vez, su código genético puede servir para lograr algo mejor más tarde.  \n",
    "Luego, se elige un `cross_point` a partir del cual se van a combinar los genes de los padres. Se va a copiar los genes del primer padre hasta este punto, y luego los genes del otro padre."
   ]
  },
  {
   "cell_type": "code",
   "execution_count": 19,
   "metadata": {},
   "outputs": [],
   "source": [
    "size_poblacion = len(poblacion)\n",
    "#hijos\n",
    "offspring = []\n",
    "for i in range(size_poblacion//2):\n",
    "    parents = np.random.choice(size_poblacion, 2, p=fitness)\n",
    "    cross_point = np.random.randint(ind_size)\n",
    "    offspring += [poblacion[parents[0]][:cross_point] + poblacion[parents[1]][cross_point:]]\n",
    "    offspring += [poblacion[parents[1]][:cross_point] + poblacion[parents[0]][cross_point:]]"
   ]
  },
  {
   "cell_type": "code",
   "execution_count": 20,
   "metadata": {},
   "outputs": [
    {
     "data": {
      "text/plain": [
       "[[1, 7, 6, 5, 4, 5, 5, 2, 3, 1, 9, 6, 8, 2, 4],\n",
       " [1, 9, 9, 4, 4, 1, 9, 5, 4, 0, 8, 8, 3, 5, 9],\n",
       " [1, 9, 6, 4, 9, 7, 9, 6, 0, 3, 3, 2, 1, 9, 7],\n",
       " [-1, 0, 6, 0, 4, 1, 5, 1, 1, 0, 7, 9, 9, 5, 2],\n",
       " [1, 2, 3, 8, 0, 1, 7, 8, 5, 2, 5, 6, 6, 3, 2],\n",
       " [1, 5, 0, 2, 9, 9, 6, 2, 3, 5, 6, 3, 1, 2, 3],\n",
       " [1, 4, 2, 4, 6, 5, 6, 2, 9, 2, 9, 4, 8, 0, 5],\n",
       " [1, 7, 3, 7, 5, 5, 1, 7, 3, 9, 9, 8, 4, 7, 1],\n",
       " [1, 7, 1, 5, 7, 4, 1, 9, 2, 7, 1, 7, 5, 3, 0],\n",
       " [1, 2, 3, 7, 8, 2, 0, 7, 5, 3, 6, 1, 1, 4, 8]]"
      ]
     },
     "execution_count": 20,
     "metadata": {},
     "output_type": "execute_result"
    }
   ],
   "source": [
    "offspring[:10]"
   ]
  },
  {
   "cell_type": "code",
   "execution_count": 21,
   "metadata": {},
   "outputs": [
    {
     "data": {
      "text/plain": [
       "[<matplotlib.lines.Line2D at 0x1c654d65700>]"
      ]
     },
     "execution_count": 21,
     "metadata": {},
     "output_type": "execute_result"
    },
    {
     "data": {
      "image/png": "[encoded data removed]",
      "text/plain": [
       "<Figure size 432x288 with 1 Axes>"
      ]
     },
     "metadata": {
      "needs_background": "light"
     },
     "output_type": "display_data"
    }
   ],
   "source": [
    "poblacion = offspring\n",
    "for individuo in poblacion:\n",
    "    x = listToDecimal(individuo)\n",
    "    y = fx(x,expresion)\n",
    "    plt.plot(x,y,'x')\n",
    "plt.plot(x_axis,y_axis)"
   ]
  },
  {
   "cell_type": "markdown",
   "metadata": {},
   "source": [
    "En una sola generación podemos ver que los individuos ya se están concentrando en puntos más altos de la función. A medida que pasen las generaciones el objetivo es que todos los individuos convergan alrededor de 1."
   ]
  },
  {
   "cell_type": "markdown",
   "metadata": {},
   "source": [
    "### Mutaciones"
   ]
  },
  {
   "cell_type": "markdown",
   "metadata": {},
   "source": [
    "Otro aspecto interesante del algoritmo genético es la probabilidad de que se produzca una mutación en los individuos. Lo que significa que el ADN de cualquier individuo puede producir un gen que no viene de sus padres.  \n",
    "El individuo `[0,5,3,8,9]` puede mutar a `[0,5,4,8,9]` y esto mantiene la puerta abierta hacia el mejoramiento de la población."
   ]
  },
  {
   "cell_type": "code",
   "execution_count": 22,
   "metadata": {},
   "outputs": [],
   "source": [
    "def mutate(individuals, prob, pool):\n",
    "    for i in range(len(individuals)):\n",
    "        mutate_individual=individuals[i]\n",
    "        if np.random.random() < prob:\n",
    "            mutation = np.random.choice(pool[0])\n",
    "            mutate_individual = [mutation] + mutate_individual[1:]\n",
    "        \n",
    "        for j in range(1,len(mutate_individual)):\n",
    "            if np.random.random() < prob:\n",
    "                mutation = np.random.choice(pool[1])\n",
    "                mutate_individual = mutate_individual[0:j] + [mutation] + mutate_individual[j+1:]\n",
    "        individuals[i] = mutate_individual"
   ]
  },
  {
   "cell_type": "code",
   "execution_count": 23,
   "metadata": {},
   "outputs": [
    {
     "data": {
      "text/plain": [
       "[[1, 7, 6, 5, 4, 5, 5, 2, 3, 1, 9, 6, 8, 2, 4],\n",
       " [1, 9, 9, 4, 4, 1, 9, 5, 4, 0, 8, 8, 3, 5, 9],\n",
       " [1, 9, 6, 4, 9, 7, 9, 6, 0, 3, 3, 2, 1, 9, 7],\n",
       " [-1, 0, 6, 0, 4, 1, 5, 1, 1, 0, 7, 9, 9, 5, 2],\n",
       " [1, 2, 3, 8, 0, 1, 7, 8, 5, 2, 5, 6, 6, 3, 2],\n",
       " [1, 5, 0, 2, 9, 9, 6, 2, 3, 5, 4, 3, 1, 2, 3],\n",
       " [1, 4, 2, 4, 6, 5, 6, 2, 9, 2, 9, 4, 8, 0, 5],\n",
       " [1, 7, 3, 7, 5, 5, 1, 7, 3, 9, 9, 8, 4, 7, 1],\n",
       " [1, 7, 1, 5, 7, 4, 1, 9, 2, 7, 1, 7, 5, 3, 0],\n",
       " [1, 2, 3, 7, 8, 2, 0, 7, 5, 3, 6, 1, 1, 4, 8]]"
      ]
     },
     "execution_count": 23,
     "metadata": {},
     "output_type": "execute_result"
    }
   ],
   "source": [
    "mutate(poblacion,0.005,genetic_pool)\n",
    "poblacion[:10]"
   ]
  },
  {
   "cell_type": "code",
   "execution_count": 24,
   "metadata": {},
   "outputs": [
    {
     "data": {
      "text/plain": [
       "[<matplotlib.lines.Line2D at 0x1c654eeb550>]"
      ]
     },
     "execution_count": 24,
     "metadata": {},
     "output_type": "execute_result"
    },
    {
     "data": {
      "image/png": "[encoded data removed]",
      "text/plain": [
       "<Figure size 432x288 with 1 Axes>"
      ]
     },
     "metadata": {
      "needs_background": "light"
     },
     "output_type": "display_data"
    }
   ],
   "source": [
    "for individuo in poblacion:\n",
    "    x = listToDecimal(individuo)\n",
    "    y = fx(x,expresion)\n",
    "    plt.plot(x,y,'x')\n",
    "plt.plot(x_axis,y_axis)"
   ]
  },
  {
   "cell_type": "markdown",
   "metadata": {},
   "source": [
    "No hay un gran cambio debido a que la probabilidad de mutar es baja, pero así es como tiene que mantenerse, de lo contrario sería imposible llegar a una solución. La mutación debe ser muy poco frecuente."
   ]
  },
  {
   "cell_type": "markdown",
   "metadata": {},
   "source": [
    "### Resultado final"
   ]
  },
  {
   "cell_type": "code",
   "execution_count": 25,
   "metadata": {},
   "outputs": [],
   "source": [
    "\n",
    "\n",
    "for _ in range(generaciones):\n",
    "    \n",
    "    fitness =[]\n",
    "\n",
    "    #extraigo los valores de y para medir su éxito\n",
    "    for individuo in poblacion:\n",
    "        x = listToDecimal(individuo)\n",
    "        y = fx(x,expresion)\n",
    "        fitness += [y]\n",
    "\n",
    "    #convierto fitnees en un vector para realizar operaciones\n",
    "    #más fácilmente\n",
    "    fitness = np.array(fitness)\n",
    "\n",
    "    #divido todos los valores de y para la suma total\n",
    "    #y así obtener valores entre 0 y 1\n",
    "    fitness=fitness/fitness.sum()    \n",
    "        \n",
    "    \n",
    "    # se reproducen los mejores individuos\n",
    "    offspring = []\n",
    "    for i in range(size_poblacion//2):\n",
    "        parents = np.random.choice(size_poblacion, 2, p=fitness)\n",
    "        cross_point = np.random.randint(ind_size)\n",
    "        offspring += [poblacion[parents[0]][:cross_point] + poblacion[parents[1]][cross_point:]]\n",
    "        offspring += [poblacion[parents[1]][:cross_point] + poblacion[parents[0]][cross_point:]]    \n",
    "    \n",
    "    poblacion = offspring\n",
    "    \n",
    "    #####\n",
    "    # MUTACIONES\n",
    "    ####\n",
    "     \n",
    "    mutate(poblacion,0.005,genetic_pool)\n",
    "    "
   ]
  },
  {
   "cell_type": "code",
   "execution_count": 26,
   "metadata": {},
   "outputs": [
    {
     "data": {
      "text/plain": [
       "[<matplotlib.lines.Line2D at 0x1c655074250>]"
      ]
     },
     "execution_count": 26,
     "metadata": {},
     "output_type": "execute_result"
    },
    {
     "data": {
      "image/png": "[encoded data removed]",
      "text/plain": [
       "<Figure size 432x288 with 1 Axes>"
      ]
     },
     "metadata": {
      "needs_background": "light"
     },
     "output_type": "display_data"
    }
   ],
   "source": [
    "for individuo in poblacion:\n",
    "    x = listToDecimal(individuo)\n",
    "    y = fx(x,expresion)\n",
    "    plt.plot(x,y,'x')\n",
    "plt.plot(x_axis,y_axis)"
   ]
  },
  {
   "cell_type": "markdown",
   "metadata": {},
   "source": [
    "Después de 100 generaciones podemos ver que la mayoría de los individuos se concentran en el valor máximo. Y si vemos el mejor individuo vamos a ver que su valor es cercano a 1."
   ]
  },
  {
   "cell_type": "code",
   "execution_count": 27,
   "metadata": {},
   "outputs": [
    {
     "data": {
      "text/plain": [
       "(array([39], dtype=int64),)"
      ]
     },
     "execution_count": 27,
     "metadata": {},
     "output_type": "execute_result"
    }
   ],
   "source": [
    "np.where(fitness == fitness.max())"
   ]
  },
  {
   "cell_type": "code",
   "execution_count": 28,
   "metadata": {},
   "outputs": [
    {
     "data": {
      "text/plain": [
       "1.9934546899142198"
      ]
     },
     "execution_count": 28,
     "metadata": {},
     "output_type": "execute_result"
    }
   ],
   "source": [
    "listToDecimal(poblacion[41])"
   ]
  },
  {
   "cell_type": "markdown",
   "metadata": {},
   "source": [
    "El mejor individuo tiene un valor de 0.97, así que tras pasarlo por la función nos da un resultado cercano al máximo."
   ]
  },
  {
   "cell_type": "code",
   "execution_count": 29,
   "metadata": {},
   "outputs": [
    {
     "data": {
      "text/plain": [
       "3.973861600740998"
      ]
     },
     "execution_count": 29,
     "metadata": {},
     "output_type": "execute_result"
    }
   ],
   "source": [
    "fx(listToDecimal(poblacion[41]),expresion)"
   ]
  },
  {
   "cell_type": "markdown",
   "metadata": {},
   "source": [
    "Podríamos dejarlos reproducirse por unas cuántas generaciones más a ver si siguen avanzando hacia el máximo."
   ]
  },
  {
   "cell_type": "code",
   "execution_count": 30,
   "metadata": {},
   "outputs": [],
   "source": [
    "\n",
    "\n",
    "for _ in range(generaciones):\n",
    "    \n",
    "    fitness =[]\n",
    "\n",
    "    #extraigo los valores de y para medir su éxito\n",
    "    for individuo in poblacion:\n",
    "        x = listToDecimal(individuo)\n",
    "        y = fx(x,expresion)\n",
    "        fitness += [y]\n",
    "\n",
    "    #convierto fitnees en un vector para realizar operaciones\n",
    "    #más fácilmente\n",
    "    fitness = np.array(fitness)\n",
    "\n",
    "    #divido todos los valores de y para la suma total\n",
    "    #y así obtener valores entre 0 y 1\n",
    "    fitness=fitness/fitness.sum()    \n",
    "        \n",
    "    \n",
    "    # se reproducen los mejores individuos\n",
    "    offspring = []\n",
    "    for i in range(size_poblacion//2):\n",
    "        parents = np.random.choice(size_poblacion, 2, p=fitness)\n",
    "        cross_point = np.random.randint(ind_size)\n",
    "        offspring += [poblacion[parents[0]][:cross_point] + poblacion[parents[1]][cross_point:]]\n",
    "        offspring += [poblacion[parents[1]][:cross_point] + poblacion[parents[0]][cross_point:]]    \n",
    "    \n",
    "    poblacion = offspring\n",
    "    \n",
    "    #####\n",
    "    # MUTACIONES\n",
    "    ####\n",
    "     \n",
    "    mutate(poblacion,0.005,genetic_pool)\n",
    "    "
   ]
  },
  {
   "cell_type": "code",
   "execution_count": 31,
   "metadata": {},
   "outputs": [
    {
     "data": {
      "text/plain": [
       "[<matplotlib.lines.Line2D at 0x1c6551f6250>]"
      ]
     },
     "execution_count": 31,
     "metadata": {},
     "output_type": "execute_result"
    },
    {
     "data": {
      "image/png": "[encoded data removed]",
      "text/plain": [
       "<Figure size 432x288 with 1 Axes>"
      ]
     },
     "metadata": {
      "needs_background": "light"
     },
     "output_type": "display_data"
    }
   ],
   "source": [
    "for individuo in poblacion:\n",
    "    x = listToDecimal(individuo)\n",
    "    y = fx(x,expresion)\n",
    "    plt.plot(x,y,'x')\n",
    "plt.plot(x_axis,y_axis)"
   ]
  },
  {
   "cell_type": "markdown",
   "metadata": {},
   "source": [
    "Después de 300 generaciones ya casi todos los individuos están cerca del máximo."
   ]
  },
  {
   "cell_type": "code",
   "execution_count": 32,
   "metadata": {},
   "outputs": [],
   "source": [
    "if maxormin == 1:\n",
    "    listToDecimal(poblacion[np.where(fitness == fitness.max())[0][0]])\n",
    "if maxormin == 2:\n",
    "    listToDecimal(poblacion[np.where(fitness == fitness.min())[0][0]])"
   ]
  },
  {
   "cell_type": "markdown",
   "metadata": {},
   "source": [
    "El mejor individuo sigue siendo sólo cercano a 1, pues su ADN no es muy estable y es imposible obtener el valor exacto de 1. Sin embargo, esto es posible con un ADN binario."
   ]
  },
  {
   "cell_type": "markdown",
   "metadata": {},
   "source": [
    "## Individuos con ADN binario"
   ]
  },
  {
   "cell_type": "markdown",
   "metadata": {},
   "source": [
    "Si hacemos que el ADN no represente números binarios, sino una división, entonces el individuo será mucho más estable. Como ya expliqué lo importante del algoritmo genético, no voy a detenerme mucho con este enfoque."
   ]
  },
  {
   "cell_type": "code",
   "execution_count": 33,
   "metadata": {},
   "outputs": [],
   "source": [
    "def bin_decimal(num_binario):\n",
    "    return (np.sum(num_binario)/len(num_binario))*2"
   ]
  },
  {
   "cell_type": "markdown",
   "metadata": {},
   "source": [
    "La función de arriba transforma una lista de números binarios en un número decimal que va desde 0 a 2. Cómo lo logra es bastante sencillo, suma todos los 1 del ADN y luego los divide para la longitud del ADN. Es muy similar al cálculo del fitness. Esto devuelve un número entre 0 y 1, si este número se multiplica por 2, ahora tenemos una forma de producir números entre 0 y 2."
   ]
  },
  {
   "cell_type": "code",
   "execution_count": 34,
   "metadata": {},
   "outputs": [
    {
     "data": {
      "text/plain": [
       "1.3333333333333333"
      ]
     },
     "execution_count": 34,
     "metadata": {},
     "output_type": "execute_result"
    }
   ],
   "source": [
    "#resultado de sumar todos los 1\n",
    "individuo = [0,1,1,1,1,0]\n",
    "bin_decimal(individuo)"
   ]
  },
  {
   "cell_type": "code",
   "execution_count": 35,
   "metadata": {},
   "outputs": [
    {
     "data": {
      "text/plain": [
       "1.3333333333333333"
      ]
     },
     "execution_count": 35,
     "metadata": {},
     "output_type": "execute_result"
    }
   ],
   "source": [
    "4/6 * 2"
   ]
  },
  {
   "cell_type": "markdown",
   "metadata": {},
   "source": [
    "Una vez hecho esto, todos los pasos de arriba se aplican de igual forma."
   ]
  },
  {
   "cell_type": "code",
   "execution_count": 36,
   "metadata": {},
   "outputs": [
    {
     "data": {
      "text/plain": [
       "[[1, -1, 1, -1, -1, -1, 1, 1, -1, -1, 1, 1, -1, 1, -1],\n",
       " [-1, 1, 1, 1, 1, -1, 1, 1, -1, 1, 1, -1, 1, -1, 1],\n",
       " [1, -1, -1, -1, -1, 1, -1, -1, -1, -1, -1, -1, -1, 1, -1],\n",
       " [1, 1, 1, -1, 1, 1, -1, 1, -1, 1, 1, -1, 1, -1, 1],\n",
       " [1, -1, 1, -1, -1, -1, 1, -1, 1, 1, 1, -1, 1, 1, 1],\n",
       " [1, 1, -1, 1, 1, -1, 1, 1, 1, 1, 1, 1, -1, -1, 1],\n",
       " [-1, 1, 1, -1, -1, -1, 1, -1, -1, 1, 1, -1, 1, 1, 1],\n",
       " [1, -1, -1, 1, 1, -1, 1, 1, 1, -1, -1, 1, -1, -1, -1],\n",
       " [-1, -1, 1, 1, -1, 1, -1, 1, 1, 1, 1, 1, -1, -1, 1],\n",
       " [1, 1, 1, -1, 1, 1, -1, 1, 1, 1, 1, -1, 1, 1, -1]]"
      ]
     },
     "execution_count": 36,
     "metadata": {},
     "output_type": "execute_result"
    }
   ],
   "source": [
    "poblacion = []\n",
    "genetic_pool = [Xmin+1,Xmax-1]\n",
    "for i in range(generaciones):\n",
    "    individuo = list(np.random.choice(genetic_pool,15))\n",
    "    poblacion.append(individuo)\n",
    "poblacion[:10]"
   ]
  },
  {
   "cell_type": "code",
   "execution_count": 37,
   "metadata": {},
   "outputs": [
    {
     "data": {
      "text/plain": [
       "[<matplotlib.lines.Line2D at 0x1c6553848e0>]"
      ]
     },
     "execution_count": 37,
     "metadata": {},
     "output_type": "execute_result"
    },
    {
     "data": {
      "image/png": "[encoded data removed]",
      "text/plain": [
       "<Figure size 432x288 with 1 Axes>"
      ]
     },
     "metadata": {
      "needs_background": "light"
     },
     "output_type": "display_data"
    }
   ],
   "source": [
    "for individuo in poblacion:\n",
    "    x = bin_decimal(individuo)\n",
    "    y = fx(x,expresion)\n",
    "    plt.plot(x,y,'x')\n",
    "plt.plot(x_axis,y_axis)"
   ]
  },
  {
   "cell_type": "markdown",
   "metadata": {},
   "source": [
    "A partir de este punto podrás hacerlo bien."
   ]
  },
  {
   "cell_type": "code",
   "execution_count": null,
   "metadata": {},
   "outputs": [],
   "source": []
  }
 ],
 "metadata": {
  "kernelspec": {
   "display_name": "Python 3 (ipykernel)",
   "language": "python",
   "name": "python3"
  },
  "language_info": {
   "codemirror_mode": {
    "name": "ipython",
    "version": 3
   },
   "file_extension": ".py",
   "mimetype": "text/x-python",
   "name": "python",
   "nbconvert_exporter": "python",
   "pygments_lexer": "ipython3",
   "version": "3.9.0"
  }
 },
 "nbformat": 4,
 "nbformat_minor": 4
}
